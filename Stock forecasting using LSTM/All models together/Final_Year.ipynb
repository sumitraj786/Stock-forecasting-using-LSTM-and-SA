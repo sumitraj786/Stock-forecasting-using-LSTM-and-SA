{
  "cells": [
    {
      "cell_type": "markdown",
      "metadata": {},
      "source": [
        "# IMPORT LIBRARIES"
      ]
    },
    {
      "cell_type": "code",
      "execution_count": null,
      "metadata": {},
      "outputs": [],
      "source": [
        "import yfinance as yf\n",
        "import pandas as pd\n",
        "import datetime\n",
        "import numpy as np\n",
        "import matplotlib.pyplot as plt\n",
        "from sklearn.linear_model import LinearRegression\n",
        "from sklearn.model_selection import train_test_split\n",
        "from sklearn.ensemble import RandomForestRegressor\n",
        "from sklearn.neighbors import KNeighborsRegressor\n",
        "from sklearn.metrics import mean_squared_error, mean_absolute_error, r2_score\n",
        "from sklearn.preprocessing import StandardScaler, MinMaxScaler\n",
        "from tensorflow.keras.models import Sequential\n",
        "from tensorflow.keras.layers import Dense, LSTM\n",
        "from nltk.sentiment.vader import SentimentIntensityAnalyzer\n",
        "from tabulate import tabulate\n",
        "import nltk\n",
        "from math import sqrt"
      ]
    },
    {
      "cell_type": "markdown",
      "metadata": {
        "id": "ja_hSuBWJ6iH",
        "slideshow": {
          "slide_type": "notes"
        }
      },
      "source": [
        "# Downloading, merging and preprocessing non financial dataset."
      ]
    },
    {
      "cell_type": "code",
      "execution_count": null,
      "metadata": {
        "colab": {
          "base_uri": "https://localhost:8080/"
        },
        "id": "9KJbNWp4o3dU",
        "outputId": "5de70d0e-154a-4b43-8a04-c24f7cbb5a0a"
      },
      "outputs": [],
      "source": [
        "def download_data(ticker, start_date, end_date):\n",
        "    try:\n",
        "        df = yf.download(ticker, start=start_date, end=end_date)\n",
        "        df = df['Close'].rename(ticker)\n",
        "        return df\n",
        "    except Exception as e:\n",
        "        print(f\"Error downloading data for {ticker}: {e}\")\n",
        "        return pd.Series(name=ticker)\n",
        "\n",
        "end_date = datetime.datetime.now().strftime('%Y-%m-%d')\n",
        "start_date = (datetime.datetime.now() - datetime.timedelta(days=20*365)).strftime('%Y-%m-%d')\n",
        "\n",
        "tickers = ['RELIANCE.NS', 'GOLDBEES.NS', 'IOC.NS', 'INR=X']\n",
        "\n",
        "dataframes = [download_data(ticker, start_date, end_date) for ticker in tickers]\n",
        "\n",
        "merged_data = pd.concat(dataframes, axis=1).dropna()\n",
        "merged_data.columns = ['RELIANCE', 'GOLD', 'PETROL', 'CURRENCY']\n",
        "\n",
        "merged_data.to_csv('merged_data.csv')\n",
        "\n",
        "if merged_data.isna().any().any():\n",
        "    print(\"Warning: NaN values present in the merged data.\")\n",
        "else:\n",
        "    print(\"Data downloaded and merged successfully.\")"
      ]
    },
    {
      "cell_type": "code",
      "execution_count": null,
      "metadata": {
        "id": "feMmW7Pszv9I"
      },
      "outputs": [],
      "source": [
        "data = pd.read_csv('merged_data.csv')\n",
        "df = data"
      ]
    },
    {
      "cell_type": "code",
      "execution_count": null,
      "metadata": {
        "colab": {
          "base_uri": "https://localhost:8080/",
          "height": 424
        },
        "id": "N5im4ROf2XHV",
        "outputId": "b3d9c447-0f0f-4afd-e9c9-2f34ec895c99"
      },
      "outputs": [],
      "source": [
        "data"
      ]
    },
    {
      "cell_type": "code",
      "execution_count": null,
      "metadata": {
        "colab": {
          "base_uri": "https://localhost:8080/"
        },
        "id": "tlbV_cryzwAk",
        "outputId": "691cf2f8-a231-4c9c-943d-c32867718fd1"
      },
      "outputs": [],
      "source": [
        "data.dtypes"
      ]
    },
    {
      "cell_type": "code",
      "execution_count": null,
      "metadata": {
        "colab": {
          "base_uri": "https://localhost:8080/"
        },
        "id": "UU3wIbCw2gLC",
        "outputId": "695b6eca-e955-489e-99bc-500ea5f7c178"
      },
      "outputs": [],
      "source": [
        "def str_to_datetime(s):\n",
        "  split = s.split('-')\n",
        "  year, month, day = int(split[0]), int(split[1]), int(split[2])\n",
        "  return datetime.datetime(year = year, month = month, day = day)\n",
        "datetime_object = str_to_datetime('2020-01-01')\n",
        "datetime_object"
      ]
    },
    {
      "cell_type": "code",
      "execution_count": null,
      "metadata": {
        "colab": {
          "base_uri": "https://localhost:8080/"
        },
        "id": "7JGgbqwz22wP",
        "outputId": "c7ba56aa-a301-4a3c-f9bf-7e95f043fab9"
      },
      "outputs": [],
      "source": [
        "data['Date'] = data['Date'].apply(str_to_datetime)\n",
        "data['Date']"
      ]
    },
    {
      "cell_type": "code",
      "execution_count": null,
      "metadata": {
        "colab": {
          "base_uri": "https://localhost:8080/",
          "height": 455
        },
        "id": "Yf2Pbf4i3muB",
        "outputId": "baa79c90-2210-4643-8f9e-8695b48c663e"
      },
      "outputs": [],
      "source": [
        "data.index = data.pop('Date')\n",
        "data"
      ]
    },
    {
      "cell_type": "code",
      "execution_count": null,
      "metadata": {
        "colab": {
          "base_uri": "https://localhost:8080/"
        },
        "id": "J69crtrw47JJ",
        "outputId": "98b37a87-a72b-49f7-cd34-24e525aee453"
      },
      "outputs": [],
      "source": [
        "data.shape"
      ]
    },
    {
      "cell_type": "code",
      "execution_count": null,
      "metadata": {
        "colab": {
          "base_uri": "https://localhost:8080/",
          "height": 300
        },
        "id": "LEA8h09WAfRW",
        "outputId": "855f6d6d-77b4-4be2-8861-22a063802674"
      },
      "outputs": [],
      "source": [
        "data.describe()"
      ]
    },
    {
      "cell_type": "code",
      "execution_count": null,
      "metadata": {
        "colab": {
          "base_uri": "https://localhost:8080/"
        },
        "id": "H-S73is-zwDy",
        "outputId": "13d907a8-fb0d-41d9-a439-86b2cf92ba2e"
      },
      "outputs": [],
      "source": [
        "print(data.isnull().sum())"
      ]
    },
    {
      "cell_type": "code",
      "execution_count": null,
      "metadata": {
        "id": "md4uLLr_BCmX"
      },
      "outputs": [],
      "source": [
        "data.dropna(inplace=True)"
      ]
    },
    {
      "cell_type": "code",
      "execution_count": null,
      "metadata": {
        "colab": {
          "base_uri": "https://localhost:8080/"
        },
        "id": "LKvLM0qMCjH2",
        "outputId": "bd1373da-24aa-4373-d1f6-96c75c6c5907"
      },
      "outputs": [],
      "source": [
        "print(data.isnull().sum())"
      ]
    },
    {
      "cell_type": "code",
      "execution_count": null,
      "metadata": {
        "colab": {
          "base_uri": "https://localhost:8080/"
        },
        "id": "4wwY2EdbAtiI",
        "outputId": "41b443c3-0d6f-4c8e-ec45-cc02d59f9815"
      },
      "outputs": [],
      "source": [
        "data.shape"
      ]
    },
    {
      "cell_type": "code",
      "execution_count": null,
      "metadata": {
        "colab": {
          "base_uri": "https://localhost:8080/",
          "height": 452
        },
        "id": "eFlcI181zwG5",
        "outputId": "5117e79a-66f7-44e0-a8d9-f13b5f2248e4"
      },
      "outputs": [],
      "source": [
        "data.hist()\n",
        "plt.show()"
      ]
    },
    {
      "cell_type": "code",
      "execution_count": null,
      "metadata": {
        "colab": {
          "base_uri": "https://localhost:8080/"
        },
        "id": "1eiwWtdOzwJ9",
        "outputId": "a9601fcc-b992-4958-c52f-f6c18cb6df0c"
      },
      "outputs": [],
      "source": [
        "print(data.corr())"
      ]
    },
    {
      "cell_type": "code",
      "execution_count": null,
      "metadata": {},
      "outputs": [],
      "source": [
        "fig, axs = plt.subplots(1, 3, figsize=(15, 5))\n",
        "\n",
        "for i, col in enumerate(['GOLD', 'PETROL', 'CURRENCY']):\n",
        "    axs[i].scatter(data['RELIANCE'], data[col])\n",
        "    axs[i].set_xlabel('RELIANCE')\n",
        "    axs[i].set_ylabel(col)\n",
        "\n",
        "plt.tight_layout()\n",
        "plt.show()\n"
      ]
    },
    {
      "cell_type": "markdown",
      "metadata": {
        "id": "ywDp0M4yKPWE"
      },
      "source": [
        "# Linear Regression"
      ]
    },
    {
      "cell_type": "code",
      "execution_count": null,
      "metadata": {
        "colab": {
          "base_uri": "https://localhost:8080/",
          "height": 797
        },
        "id": "d8np9Kxwzwia",
        "outputId": "63737df4-db3b-4422-e37f-5f4807476164"
      },
      "outputs": [],
      "source": [
        "# Assuming data is your dataset\n",
        "X = data[['GOLD', 'PETROL', 'CURRENCY']]\n",
        "y = data['RELIANCE']\n",
        "\n",
        "X_train, X_test, y_train, y_test = train_test_split(X, y, test_size=0.2, random_state=42)\n",
        "\n",
        "model = LinearRegression()\n",
        "model.fit(X_train, y_train)\n",
        "y_pred = model.predict(X_test)\n",
        "\n",
        "mse = mean_squared_error(y_test, y_pred)\n",
        "rmse = mean_squared_error(y_test, y_pred, squared=False)\n",
        "mae = mean_absolute_error(y_test, y_pred)\n",
        "\n",
        "# Display actual and predicted values in a table\n",
        "results_table = pd.DataFrame({\n",
        "    'Actual RELIANCE': y_test,\n",
        "    'Predicted RELIANCE': y_pred\n",
        "})\n",
        "\n",
        "print(\"Actual vs. Predicted Values:\")\n",
        "print(results_table)\n",
        "\n",
        "# Display evaluation metrics\n",
        "print(f'\\nMean Squared Error (MSE): {mse}')\n",
        "print(f'Root Mean Squared Error (RMSE): {rmse}')\n",
        "print(f'Mean Absolute Error (MAE): {mae}')\n",
        "\n",
        "# Plot scatter plots\n",
        "fig, axes = plt.subplots(nrows=1, ncols=3, figsize=(15, 5))\n",
        "\n",
        "axes[0].scatter(X_test['GOLD'], y_test, color='blue', label='Actual RELIANCE')\n",
        "axes[0].scatter(X_test['GOLD'], y_pred, color='red', label='Predicted RELIANCE')\n",
        "axes[0].set_xlabel('GOLD')\n",
        "axes[0].set_ylabel('RELIANCE')\n",
        "axes[0].set_title('GOLD vs. RELIANCE')\n",
        "axes[0].legend()\n",
        "\n",
        "axes[1].scatter(X_test['PETROL'], y_test, color='blue', label='Actual RELIANCE')\n",
        "axes[1].scatter(X_test['PETROL'], y_pred, color='red', label='Predicted RELIANCE')\n",
        "axes[1].set_xlabel('PETROL')\n",
        "axes[1].set_ylabel('RELIANCE')\n",
        "axes[1].set_title('PETROL vs. RELIANCE')\n",
        "axes[1].legend()\n",
        "\n",
        "axes[2].scatter(X_test['CURRENCY'], y_test, color='blue', label='Actual RELIANCE')\n",
        "axes[2].scatter(X_test['CURRENCY'], y_pred, color='red', label='Predicted RELIANCE')\n",
        "axes[2].set_xlabel('CURRENCY')\n",
        "axes[2].set_ylabel('RELIANCE')\n",
        "axes[2].set_title('CURRENCY vs. RELIANCE')\n",
        "axes[2].legend()\n",
        "\n",
        "plt.tight_layout()\n",
        "plt.show()\n"
      ]
    },
    {
      "cell_type": "code",
      "execution_count": null,
      "metadata": {
        "colab": {
          "base_uri": "https://localhost:8080/"
        },
        "id": "8jRQFSxnzwmS",
        "outputId": "5ced3b42-7abb-4ee4-b2d3-5e1867750121"
      },
      "outputs": [],
      "source": [
        "def calculate_metrics(y_test, y_pred):\n",
        "    mse = mean_squared_error(y_test, y_pred)\n",
        "    rmse = mean_squared_error(y_test, y_pred, squared=False)\n",
        "    r2 = r2_score(y_test, y_pred)\n",
        "    return mse, rmse, r2\n",
        "\n",
        "X = data[['GOLD', 'PETROL', 'CURRENCY']]\n",
        "y = data['RELIANCE']\n",
        "\n",
        "metrics_dict = {'GOLD': {}, 'PETROL': {}, 'CURRENCY': {}}\n",
        "\n",
        "for feature in X.columns:\n",
        "    current_feature = X[[feature]]\n",
        "\n",
        "    X_train, X_test, y_train, y_test = train_test_split(current_feature, y, test_size=0.2, random_state=42)\n",
        "\n",
        "    model = LinearRegression()\n",
        "    model.fit(X_train, y_train)\n",
        "\n",
        "    y_pred = model.predict(X_test)\n",
        "\n",
        "    mse, rmse, r2 = calculate_metrics(y_test, y_pred)\n",
        "\n",
        "    metrics_dict[feature]['MSE'] = mse\n",
        "    metrics_dict[feature]['RMSE'] = rmse\n",
        "    metrics_dict[feature]['R-squared'] = r2\n",
        "\n",
        "for feature, metrics in metrics_dict.items():\n",
        "    print(f'Feature: {feature}')\n",
        "    print(f'Mean Squared Error: {metrics[\"MSE\"]}')\n",
        "    print(f'Root Mean Squared Error: {metrics[\"RMSE\"]}')\n",
        "    print(f'R-squared: {metrics[\"R-squared\"]}')\n",
        "    print('-' * 30)\n"
      ]
    },
    {
      "cell_type": "code",
      "execution_count": null,
      "metadata": {
        "colab": {
          "base_uri": "https://localhost:8080/"
        },
        "id": "-pvIeDXczwqE",
        "outputId": "04733ff0-fb53-438a-dff2-364c9865cfa4"
      },
      "outputs": [],
      "source": [
        "def calculate_metrics(y_test, y_pred):\n",
        "    mse = mean_squared_error(y_test, y_pred)\n",
        "    rmse = mean_squared_error(y_test, y_pred, squared=False)\n",
        "    r2 = r2_score(y_test, y_pred)\n",
        "    return mse, rmse, r2\n",
        "\n",
        "X = data[['GOLD', 'PETROL', 'CURRENCY']]\n",
        "y = data['RELIANCE']\n",
        "\n",
        "metrics_dict = {'Feature': [], 'MSE': [], 'RMSE': [], 'R-squared': []}\n",
        "\n",
        "for feature in X.columns:\n",
        "    current_feature = X[[feature]]\n",
        "\n",
        "    X_train, X_test, y_train, y_test = train_test_split(current_feature, y, test_size=0.2, random_state=42)\n",
        "\n",
        "    model = LinearRegression()\n",
        "    model.fit(X_train, y_train)\n",
        "\n",
        "    y_pred = model.predict(X_test)\n",
        "\n",
        "    mse, rmse, r2 = calculate_metrics(y_test, y_pred)\n",
        "\n",
        "    metrics_dict['Feature'].append(feature)\n",
        "    metrics_dict['MSE'].append(mse)\n",
        "    metrics_dict['RMSE'].append(rmse)\n",
        "    metrics_dict['R-squared'].append(r2)\n",
        "\n",
        "results_df = pd.DataFrame(metrics_dict)\n",
        "print(results_df)\n"
      ]
    },
    {
      "cell_type": "markdown",
      "metadata": {
        "id": "SiYRgST7Kbyn"
      },
      "source": [
        "# Random Forest"
      ]
    },
    {
      "cell_type": "code",
      "execution_count": null,
      "metadata": {
        "colab": {
          "base_uri": "https://localhost:8080/"
        },
        "id": "cH3zvtSdFsoO",
        "outputId": "beaf3e69-5aee-4697-c8b0-07bf8e401064"
      },
      "outputs": [],
      "source": [
        "def calculate_metrics(y_test, y_pred):\n",
        "    mse = mean_squared_error(y_test, y_pred)\n",
        "    rmse = mean_squared_error(y_test, y_pred, squared=False)\n",
        "    r2 = r2_score(y_test, y_pred)\n",
        "    return mse, rmse, r2\n",
        "\n",
        "X = data[['GOLD', 'PETROL', 'CURRENCY']]\n",
        "y = data['RELIANCE']\n",
        "\n",
        "metrics_dict_rf = {'Feature': [], 'MSE': [], 'RMSE': [], 'R-squared': []}\n",
        "\n",
        "for feature in X.columns:\n",
        "    current_feature = X[[feature]]\n",
        "\n",
        "    X_train, X_test, y_train, y_test = train_test_split(current_feature, y, test_size=0.2, random_state=42)\n",
        "\n",
        "    model_rf = RandomForestRegressor(random_state=42)\n",
        "    model_rf.fit(X_train, y_train)\n",
        "\n",
        "    y_pred_rf = model_rf.predict(X_test)\n",
        "\n",
        "    mse_rf, rmse_rf, r2_rf = calculate_metrics(y_test, y_pred_rf)\n",
        "\n",
        "    metrics_dict_rf['Feature'].append(feature)\n",
        "    metrics_dict_rf['MSE'].append(mse_rf)\n",
        "    metrics_dict_rf['RMSE'].append(rmse_rf)\n",
        "    metrics_dict_rf['R-squared'].append(r2_rf)\n",
        "\n",
        "results_df_rf = pd.DataFrame(metrics_dict_rf)\n",
        "print(results_df_rf)\n"
      ]
    },
    {
      "cell_type": "markdown",
      "metadata": {
        "id": "0oKMvMHKKhwB"
      },
      "source": [
        "# KNN"
      ]
    },
    {
      "cell_type": "code",
      "execution_count": null,
      "metadata": {
        "colab": {
          "base_uri": "https://localhost:8080/"
        },
        "id": "JVxofeBvGSr-",
        "outputId": "c3438a2c-3601-41f0-c76c-6f8c8d9bcbd2"
      },
      "outputs": [],
      "source": [
        "def calculate_metrics(y_test, y_pred):\n",
        "    mse = mean_squared_error(y_test, y_pred)\n",
        "    rmse = mean_squared_error(y_test, y_pred, squared=False)\n",
        "    r2 = r2_score(y_test, y_pred)\n",
        "    return mse, rmse, r2\n",
        "\n",
        "X = data[['GOLD', 'PETROL', 'CURRENCY']]\n",
        "y = data['RELIANCE']\n",
        "\n",
        "metrics_dict_knn = {'Feature': [], 'MSE': [], 'RMSE': [], 'R-squared': []}\n",
        "\n",
        "for feature in X.columns:\n",
        "    current_feature = X[[feature]]\n",
        "\n",
        "    X_train, X_test, y_train, y_test = train_test_split(current_feature, y, test_size=0.2, random_state=42)\n",
        "\n",
        "    model_knn = KNeighborsRegressor(n_neighbors=5)\n",
        "    model_knn.fit(X_train, y_train)\n",
        "\n",
        "    y_pred_knn = model_knn.predict(X_test)\n",
        "\n",
        "    mse_knn, rmse_knn, r2_knn = calculate_metrics(y_test, y_pred_knn)\n",
        "\n",
        "    metrics_dict_knn['Feature'].append(feature)\n",
        "    metrics_dict_knn['MSE'].append(mse_knn)\n",
        "    metrics_dict_knn['RMSE'].append(rmse_knn)\n",
        "    metrics_dict_knn['R-squared'].append(r2_knn)\n",
        "\n",
        "results_df_knn = pd.DataFrame(metrics_dict_knn)\n",
        "print(results_df_knn)\n"
      ]
    },
    {
      "cell_type": "markdown",
      "metadata": {
        "id": "1GxhIBX5Kmi8"
      },
      "source": [
        "# ANN"
      ]
    },
    {
      "cell_type": "code",
      "execution_count": null,
      "metadata": {
        "colab": {
          "base_uri": "https://localhost:8080/"
        },
        "id": "prGP0VbiG1NM",
        "outputId": "91f3afbe-ee2e-4c37-8163-45ddd36acdb8"
      },
      "outputs": [],
      "source": [
        "def calculate_metrics(y_test, y_pred):\n",
        "    mse = mean_squared_error(y_test, y_pred)\n",
        "    rmse = mean_squared_error(y_test, y_pred, squared=False)\n",
        "    r2 = r2_score(y_test, y_pred)\n",
        "    return mse, rmse, r2\n",
        "\n",
        "# Assuming data is your dataset\n",
        "X = data[['GOLD', 'PETROL', 'CURRENCY']]\n",
        "y = data['RELIANCE']\n",
        "\n",
        "X_train, X_test, y_train, y_test = train_test_split(X, y, test_size=0.2, random_state=42)\n",
        "\n",
        "scaler = StandardScaler()\n",
        "X_train_scaled = scaler.fit_transform(X_train)\n",
        "X_test_scaled = scaler.transform(X_test)\n",
        "\n",
        "model_ann = Sequential()\n",
        "model_ann.add(Dense(32, activation='relu', input_shape=(X_train.shape[1],)))\n",
        "model_ann.add(Dense(16, activation='relu'))\n",
        "model_ann.add(Dense(1, activation='linear'))\n",
        "\n",
        "model_ann.compile(optimizer='adam', loss='mean_squared_error')\n",
        "\n",
        "model_ann.fit(X_train_scaled, y_train, epochs=50, batch_size=32, verbose=0)\n",
        "\n",
        "y_pred_ann = model_ann.predict(X_test_scaled).flatten()\n",
        "\n",
        "mse_ann, rmse_ann, r2_ann = calculate_metrics(y_test, y_pred_ann)\n",
        "\n",
        "# Create a DataFrame to display actual and predicted prices\n",
        "results_ann = pd.DataFrame({'Actual Prices': y_test, 'Predicted Prices (ANN)': y_pred_ann})\n",
        "\n",
        "# Display the DataFrame and metrics\n",
        "print(\"Actual and Predicted Prices (ANN):\")\n",
        "print(results_ann.head())\n",
        "\n",
        "print(\"\\nPerformance Metrics (ANN):\")\n",
        "print(f'Mean Squared Error (ANN): {mse_ann}')\n",
        "print(f'Root Mean Squared Error (ANN): {rmse_ann}')\n",
        "print(f'R-squared (ANN): {r2_ann}')\n"
      ]
    },
    {
      "cell_type": "markdown",
      "metadata": {
        "id": "rnM1_SMELYoj"
      },
      "source": [
        "# LSTM"
      ]
    },
    {
      "cell_type": "code",
      "execution_count": null,
      "metadata": {
        "colab": {
          "base_uri": "https://localhost:8080/",
          "height": 1000
        },
        "id": "eMkjGBnNMLRu",
        "outputId": "44949274-a29b-43c2-e969-ee9e4f65bda0"
      },
      "outputs": [],
      "source": [
        "target_variable = 'RELIANCE'\n",
        "y = data[target_variable].values.reshape(-1, 1)\n",
        "\n",
        "scaler = MinMaxScaler(feature_range=(0, 1))\n",
        "y_scaled = scaler.fit_transform(y)\n",
        "\n",
        "def create_sequences(data, seq_length):\n",
        "    sequences = []\n",
        "    targets = []\n",
        "    for i in range(len(data) - seq_length):\n",
        "        seq = data[i:i+seq_length]\n",
        "        target = data[i+seq_length]\n",
        "        sequences.append(seq)\n",
        "        targets.append(target)\n",
        "    return np.array(sequences), np.array(targets)\n",
        "\n",
        "sequence_length = 10\n",
        "\n",
        "X_seq, y_seq = create_sequences(y_scaled, sequence_length)\n",
        "\n",
        "train_size = int(len(X_seq) * 0.7)\n",
        "val_size = int(len(X_seq) * 0.15)\n",
        "test_size = len(X_seq) - train_size - val_size\n",
        "\n",
        "X_train, y_train = X_seq[:train_size], y_seq[:train_size]\n",
        "X_val, y_val = X_seq[train_size:train_size+val_size], y_seq[train_size:train_size+val_size]\n",
        "X_test, y_test = X_seq[train_size+val_size:], y_seq[train_size+val_size:]\n",
        "\n",
        "model_lstm = Sequential()\n",
        "model_lstm.add(LSTM(50, input_shape=(X_train.shape[1], X_train.shape[2])))\n",
        "model_lstm.add(Dense(1))\n",
        "model_lstm.compile(optimizer='adam', loss='mse')\n",
        "\n",
        "model_lstm.fit(X_train, y_train, epochs=50, batch_size=32, validation_data=(X_val, y_val), verbose=1)\n",
        "\n",
        "y_pred_lstm = model_lstm.predict(X_test)\n",
        "\n",
        "y_pred_lstm_inv = scaler.inverse_transform(y_pred_lstm)\n",
        "y_test_inv = scaler.inverse_transform(y_test)\n",
        "\n",
        "rmse_lstm = np.sqrt(mean_squared_error(y_test_inv, y_pred_lstm_inv))\n",
        "\n",
        "test_dates = data.index[train_size+val_size : train_size+val_size+len(y_test_inv)]\n",
        "\n",
        "plt.figure(figsize=(12, 6))\n",
        "plt.plot(test_dates, y_test_inv, label='Actual')\n",
        "plt.plot(test_dates, y_pred_lstm_inv, label='LSTM Prediction')\n",
        "plt.title(f'LSTM Prediction vs Actual (RMSE: {rmse_lstm:.2f})')\n",
        "plt.xlabel('Date')  # Update xlabel to 'Date'\n",
        "plt.ylabel(target_variable)\n",
        "plt.legend()\n",
        "plt.show()\n",
        "\n",
        "error_percentage = (rmse_lstm / np.mean(y_test_inv)) * 100\n",
        "\n",
        "print(f'Root Mean Squared Error (RMSE): {rmse_lstm:.2f}')\n",
        "print(f'Error Percentage: {error_percentage:.2f}%')\n",
        "\n",
        "forecasted_values_scaled = []\n",
        "for i in range(7):\n",
        "    X_new = np.array([X_test[i]])\n",
        "    forecasted_value_scaled = model_lstm.predict(X_new)[0][0]\n",
        "    forecasted_values_scaled.append(forecasted_value_scaled)\n",
        "    X_test = np.concatenate((X_test, X_new), axis=0)\n",
        "\n",
        "forecasted_values = scaler.inverse_transform(np.array(forecasted_values_scaled).reshape(-1, 1))\n",
        "forecasted_dates = pd.date_range(data.index[-1], periods=7, freq='D')[1:]\n",
        "\n",
        "print(\"Forecasted stock prices for the upcoming 7 days:\")\n",
        "for date, price in zip(forecasted_dates, forecasted_values):\n",
        "    print(f\"{date.strftime('%Y-%m-%d')}: {price[0]}\")\n",
        "\n",
        "\n"
      ]
    },
    {
      "cell_type": "markdown",
      "metadata": {
        "id": "EkEuOzxGLDIK"
      },
      "source": [
        "# All models together"
      ]
    },
    {
      "cell_type": "code",
      "execution_count": null,
      "metadata": {
        "id": "aUJhYtgnM85k"
      },
      "outputs": [],
      "source": [
        "def calculate_metrics(y_test, y_pred):\n",
        "    mse = mean_squared_error(y_test, y_pred)\n",
        "    rmse = mean_squared_error(y_test, y_pred, squared=False)\n",
        "    mae = mean_absolute_error(y_test, y_pred)\n",
        "    return mse, rmse, mae\n",
        "\n",
        "X = data[['GOLD', 'PETROL', 'CURRENCY']]\n",
        "y = data['RELIANCE']\n",
        "\n",
        "X_train, X_temp, y_train, y_temp = train_test_split(X, y, test_size=0.3, random_state=40)\n",
        "X_test, X_val, y_test, y_val = train_test_split(X_temp, y_temp, test_size=0.5, random_state=42)\n",
        "\n",
        "scaler_ann = StandardScaler()\n",
        "X_train_scaled_ann = scaler_ann.fit_transform(X_train)\n",
        "X_test_scaled_ann = scaler_ann.transform(X_test)\n",
        "X_val_scaled_ann = scaler_ann.transform(X_val)\n",
        "\n",
        "scaler_lstm = MinMaxScaler(feature_range=(0, 1))\n",
        "y_train_scaled_lstm = scaler_lstm.fit_transform(y_train.values.reshape(-1, 1))\n",
        "y_test_scaled_lstm = scaler_lstm.transform(y_test.values.reshape(-1, 1))\n",
        "\n",
        "model_lr = LinearRegression()\n",
        "model_lr.fit(X_train, y_train)\n",
        "y_pred_lr = model_lr.predict(X_test)\n",
        "mse_lr, rmse_lr, mae_lr = calculate_metrics(y_test, y_pred_lr)\n",
        "error_percentage_lr = (mae_lr / y_test.mean()) * 100\n",
        "\n",
        "model_rf = RandomForestRegressor(random_state=42)\n",
        "model_rf.fit(X_train, y_train)\n",
        "y_pred_rf = model_rf.predict(X_test)\n",
        "mse_rf, rmse_rf, mae_rf = calculate_metrics(y_test, y_pred_rf)\n",
        "error_percentage_rf = (mae_rf / y_test.mean()) * 100\n",
        "\n",
        "metrics_dict_knn = {'Feature': [], 'MSE': [], 'RMSE': [], 'MAE': []}\n",
        "for feature in X.columns:\n",
        "    current_feature = X_train[[feature]]\n",
        "    model_knn = KNeighborsRegressor(n_neighbors=5)\n",
        "    model_knn.fit(current_feature, y_train)\n",
        "    current_feature_test = X_test[[feature]]\n",
        "    y_pred_knn = model_knn.predict(current_feature_test)\n",
        "    mse_knn, rmse_knn, mae_knn = calculate_metrics(y_test, y_pred_knn)\n",
        "    metrics_dict_knn['Feature'].append(feature)\n",
        "    metrics_dict_knn['MSE'].append(mse_knn)\n",
        "    metrics_dict_knn['RMSE'].append(rmse_knn)\n",
        "    metrics_dict_knn['MAE'].append(mae_knn)\n",
        "\n",
        "metrics_df_knn = pd.DataFrame(metrics_dict_knn)\n",
        "error_percentage_knn = (metrics_df_knn['MAE'].mean() / y_test.mean()) * 100\n",
        "\n",
        "model_ann = Sequential()\n",
        "model_ann.add(Dense(32, activation='relu', input_shape=(X_train.shape[1],)))\n",
        "model_ann.add(Dense(16, activation='relu'))\n",
        "model_ann.add(Dense(1, activation='linear'))\n",
        "model_ann.compile(optimizer='adam', loss='mean_squared_error')\n",
        "model_ann.fit(X_train_scaled_ann, y_train, epochs=50, batch_size=32, verbose=0)\n",
        "y_pred_ann = model_ann.predict(X_test_scaled_ann).flatten()\n",
        "mse_ann, rmse_ann, mae_ann = calculate_metrics(y_test, y_pred_ann)\n",
        "error_percentage_ann = (mae_ann / y_test.mean()) * 100\n",
        "\n",
        "sequence_length_lstm = 10\n",
        "X_seq_lstm, y_seq_lstm = create_sequences(y_train_scaled_lstm, sequence_length_lstm)\n",
        "\n",
        "X_seq_val_lstm, y_seq_val_lstm = create_sequences(scaler_lstm.transform(y_val.values.reshape(-1, 1)), sequence_length_lstm)\n",
        "X_seq_test_lstm, y_seq_test_lstm = create_sequences(y_test_scaled_lstm, sequence_length_lstm)\n",
        "\n",
        "model_lstm = Sequential()\n",
        "model_lstm.add(LSTM(50, input_shape=(X_seq_lstm.shape[1], X_seq_lstm.shape[2])))\n",
        "model_lstm.add(Dense(1))\n",
        "model_lstm.compile(optimizer='adam', loss='mse')\n",
        "model_lstm.fit(X_seq_lstm, y_seq_lstm, epochs=50, batch_size=32, validation_data=(X_seq_val_lstm, y_seq_val_lstm), verbose=0)\n",
        "y_pred_lstm = model_lstm.predict(X_seq_test_lstm)\n",
        "y_pred_lstm_inv = scaler_lstm.inverse_transform(y_pred_lstm.reshape(-1, 1)).flatten()\n",
        "y_test_inv_lstm = scaler_lstm.inverse_transform(y_seq_test_lstm.reshape(-1, 1)).flatten()\n",
        "rmse_lstm = np.sqrt(mean_squared_error(y_test_inv_lstm, y_pred_lstm_inv))\n",
        "\n",
        "results_lr = pd.DataFrame({'Actual': y_test, 'Predicted_LR': y_pred_lr})\n",
        "results_rf = pd.DataFrame({'Actual': y_test, 'Predicted_RF': y_pred_rf})\n",
        "results_knn = pd.DataFrame({'Actual': y_test, 'Predicted_KNN': y_pred_knn})\n",
        "results_ann = pd.DataFrame({'Actual': y_test, 'Predicted_ANN': y_pred_ann})\n",
        "results_lstm = pd.DataFrame({'Actual': y_test_inv_lstm, 'Predicted_LSTM': y_pred_lstm_inv})\n",
        "\n",
        "error_df = pd.DataFrame({\n",
        "    'Model': ['Linear Regression', 'Random Forest', 'k-Nearest Neighbors', 'Artificial Neural Network', 'LSTM'],\n",
        "    'MSE': [mse_lr, mse_rf, metrics_df_knn['MSE'].mean(), mse_ann, mean_squared_error(y_test_inv_lstm, y_pred_lstm_inv)],\n",
        "    'RMSE': [rmse_lr, rmse_rf, metrics_df_knn['RMSE'].mean(), rmse_ann, rmse_lstm],\n",
        "    'MAE': [mae_lr, mae_rf, metrics_df_knn['MAE'].mean(), mae_ann, mean_absolute_error(y_test_inv_lstm, y_pred_lstm_inv)],\n",
        "    'Error Percentage': [error_percentage_lr, error_percentage_rf, error_percentage_knn, error_percentage_ann, (mean_absolute_error(y_test_inv_lstm, y_pred_lstm_inv) / y_test_inv_lstm.mean()) * 100]\n",
        "})\n",
        "\n",
        "print(\"Results for Linear Regression:\")\n",
        "print(results_lr.head())\n",
        "print(\"\\nResults for Random Forest:\")\n",
        "print(results_rf.head())\n",
        "print(\"\\nResults for k-Nearest Neighbors:\")\n",
        "print(results_knn.head())\n",
        "print(\"\\nResults for Artificial Neural Network:\")\n",
        "print(results_ann.head())\n",
        "print(\"\\nResults for LSTM:\")\n",
        "print(results_lstm.head())\n",
        "\n",
        "print(\"\\nError Table:\")\n",
        "print(error_df)\n",
        "\n",
        "error_df.to_csv('regression_results.csv', index=False)\n"
      ]
    },
    {
      "cell_type": "markdown",
      "metadata": {
        "id": "VcIH_WVMYYmN"
      },
      "source": [
        "# SENTIMENT ANALYSIS"
      ]
    },
    {
      "cell_type": "code",
      "execution_count": null,
      "metadata": {
        "id": "-1k8OXy5BYHT"
      },
      "outputs": [],
      "source": [
        "nltk.download('vader_lexicon')\n",
        "\n",
        "df = pd.read_csv('sentiment.csv')\n",
        "df['Headline'].fillna('', inplace=True)\n",
        "df['Content'].fillna('', inplace=True)\n",
        "\n",
        "sid = SentimentIntensityAnalyzer()\n",
        "df['Headline_Sentiment'] = df['Headline'].apply(lambda x: sid.polarity_scores(str(x))['compound'])\n",
        "df['Content_Sentiment'] = df['Content'].apply(lambda x: sid.polarity_scores(str(x))['compound'])\n",
        "\n",
        "df.to_csv('sentiment_with_scores.csv', index=False)\n",
        "\n",
        "X = df[['Headline_Sentiment', 'Content_Sentiment']]\n",
        "y = df['Close']\n",
        "\n",
        "X_train, X_temp, y_train, y_temp = train_test_split(X, y, test_size=0.3, random_state=42)\n",
        "X_test, X_val, y_test, y_val = train_test_split(X_temp, y_temp, test_size=0.5, random_state=42)\n",
        "\n",
        "model = RandomForestRegressor()\n",
        "model.fit(X_train, y_train)\n",
        "\n",
        "test_preds = model.predict(X_test)\n",
        "\n",
        "y_test = y_test.reset_index(drop=True)\n",
        "test_preds = pd.Series(test_preds, name='Predicted')\n",
        "\n",
        "mse_test = mean_squared_error(y_test, test_preds)\n",
        "rmse_test = sqrt(mse_test)\n",
        "mae_test = mean_absolute_error(y_test, test_preds)\n",
        "\n",
        "range_close = y.max() - y.min()\n",
        "mse_percentage = (mse_test / range_close) * 100\n",
        "rmse_percentage = (rmse_test / range_close) * 100\n",
        "mae_percentage = (mae_test / range_close) * 100\n",
        "\n",
        "table = [['Metric', 'Error', 'Error Percentage'],\n",
        "         ['MSE', mse_test, mse_percentage],\n",
        "         ['RMSE', rmse_test, rmse_percentage],\n",
        "         ['MAE', mae_test, mae_percentage]]\n",
        "\n",
        "print(tabulate(table, headers='firstrow', tablefmt='fancy_grid'))\n",
        "\n",
        "plt.figure(figsize=(12, 6))\n",
        "plt.plot(y_test.index, y_test, label='Actual Close Prices', color='blue')\n",
        "plt.plot(y_test.index, test_preds, label='Predicted Close Prices', color='orange')\n",
        "plt.xlabel('Index')\n",
        "plt.ylabel('Close Prices')\n",
        "plt.title('Actual vs. Predicted Close Prices')\n",
        "plt.legend()\n",
        "\n",
        "plt.show()\n"
      ]
    }
  ],
  "metadata": {
    "accelerator": "GPU",
    "colab": {
      "collapsed_sections": [
        "ja_hSuBWJ6iH",
        "ywDp0M4yKPWE",
        "SiYRgST7Kbyn",
        "0oKMvMHKKhwB",
        "1GxhIBX5Kmi8",
        "EkEuOzxGLDIK",
        "VcIH_WVMYYmN"
      ],
      "gpuType": "T4",
      "provenance": []
    },
    "kernelspec": {
      "display_name": "Python 3",
      "name": "python3"
    },
    "language_info": {
      "codemirror_mode": {
        "name": "ipython",
        "version": 3
      },
      "file_extension": ".py",
      "mimetype": "text/x-python",
      "name": "python",
      "nbconvert_exporter": "python",
      "pygments_lexer": "ipython3",
      "version": "3.9.18"
    }
  },
  "nbformat": 4,
  "nbformat_minor": 0
}
